{
 "cells": [
  {
   "cell_type": "code",
   "execution_count": null,
   "metadata": {},
   "outputs": [],
   "source": [
    "%matplotlib inline\n",
    "import matplotlib.pyplot as plt\n",
    "import numpy as np\n",
    "\n",
    "from package.image_processing.general import io\n",
    "from package.tlc_object.ingredient import Ingredient\n",
    "from package.tlc_object.mixture import Mixture\n",
    "from package.tlc_object.tlc_analyzer import TLCAnalyzer"
   ]
  },
  {
   "cell_type": "markdown",
   "metadata": {},
   "source": [
    "# 🔧 Helper Function"
   ]
  },
  {
   "cell_type": "markdown",
   "metadata": {},
   "source": [
    "## Ingredient"
   ]
  },
  {
   "cell_type": "code",
   "execution_count": null,
   "metadata": {},
   "outputs": [],
   "source": [
    "def initialize_ingredient(ingredient_image_path: str) -> Ingredient:\n",
    "    if not ingredient_image_path:\n",
    "        raise ValueError(\"No ingredient path found.\")\n",
    "    ingredient_name = ingredient_image_path.split('\\\\')[-1]\n",
    "    ingredient_image = io.read_image(ingredient_image_path)\n",
    "    ingredient_concentration = [0.0, 0.1, 0.2, 0.3, 0.4, 0.5, 0.6, 0.7, 0.8, 0.9, 1.0]\n",
    "    ingredient = Ingredient(ingredient_name, ingredient_image, ingredient_concentration)\n",
    "    return ingredient\n",
    "\n",
    "def show_ingredient_general_images(ingredient: Ingredient):\n",
    "    plt.figure(figsize=(15, 5))\n",
    "    plt.subplot(1, 3, 1), plt.imshow(ingredient.original_image), plt.title('Original Image')\n",
    "    plt.subplot(1, 3, 2), plt.imshow(ingredient.cropped_image), plt.title('Cropped Image')\n",
    "    plt.subplot(1, 3, 3), plt.imshow(ingredient.line_detected_image), plt.title('Line Detection Image')\n",
    "    plt.tight_layout()\n",
    "\n",
    "def show_ingredient_channel_images(ingredient: Ingredient, color: str):\n",
    "    channel_map = {\n",
    "        'red': ingredient.red_channel_ingredient,\n",
    "        'green': ingredient.green_channel_ingredient,\n",
    "        'blue': ingredient.blue_channel_ingredient\n",
    "    }\n",
    "    ingredient_single_color = channel_map[color]\n",
    "    plt.figure(figsize=(15, 5))\n",
    "    plt.subplot(1, 2, 1), plt.imshow(ingredient_single_color.single_color_image, cmap='gray'), plt.title(f'{color[0].upper() + color[1:]} Channel Image')\n",
    "    plt.subplot(1, 2, 2), plt.imshow(ingredient_single_color.segmented_image, cmap='gray'), plt.title(f'{color[0].upper() + color[1:]} Segmented Image')\n",
    "    plt.tight_layout()\n",
    "    \n",
    "def show_ingredient_vertical_lane_images(ingredient: Ingredient, color: str):\n",
    "    channel_map = {\n",
    "        'red': ingredient.red_channel_ingredient,\n",
    "        'green': ingredient.green_channel_ingredient,\n",
    "        'blue': ingredient.blue_channel_ingredient\n",
    "    }\n",
    "    ingredient_single_color = channel_map[color]\n",
    "    \n",
    "    plt.figure(figsize=(15, 5))\n",
    "    for i, vertical_lane_image in enumerate(ingredient_single_color.vertical_lane_images):\n",
    "        plt.subplot(1, len(ingredient_single_color.vertical_lane_images), i+1), plt.imshow(vertical_lane_image, cmap='gray'), plt.title(f'{color[0].upper() + color[1:]}\\nVertical Lane {i+1}')\n",
    "    plt.tight_layout()\n",
    "\n",
    "    plt.figure(figsize=(15, 5))\n",
    "    for i, vertical_lane_image in enumerate(ingredient_single_color.get_vertical_lane_images_with_centroid()):\n",
    "        plt.subplot(1, len(ingredient_single_color.get_vertical_lane_images_with_centroid()), i+1), plt.imshow(vertical_lane_image, cmap='gray'), plt.title(f'{color[0].upper() + color[1:]}\\nVertical Lane {i+1}')\n",
    "    plt.tight_layout()\n",
    "    \n",
    "def show_ingredient_horizontal_lane_images(ingredient: Ingredient, color: str):\n",
    "    channel_map = {\n",
    "        'red': ingredient.red_channel_ingredient,\n",
    "        'green': ingredient.green_channel_ingredient,\n",
    "        'blue': ingredient.blue_channel_ingredient\n",
    "    }\n",
    "    ingredient_single_color = channel_map[color]\n",
    "    \n",
    "    plt.figure(figsize=(10, 8))\n",
    "    for i, horizontal_lane_image in enumerate(ingredient_single_color.horizontal_lane_images):\n",
    "        plt.subplot(len(ingredient_single_color.horizontal_lane_images), 1, i+1), plt.imshow(horizontal_lane_image, cmap='gray'), plt.title(f'{color[0].upper() + color[1:]}\\nHorizontal Lane {i+1}')\n",
    "    plt.tight_layout()\n",
    "\n",
    "    plt.figure(figsize=(10, 8))\n",
    "    for i, ((coefficient, intercept), r2) in enumerate(zip(ingredient_single_color.get_best_fit_line(), ingredient_single_color.get_r2())):\n",
    "        x = np.linspace(0, 1, 100)\n",
    "        y = coefficient * x + intercept\n",
    "        plt.plot(x, y, label=f'Best Fit Line {i+1} (R2: {r2:.2f})')\n",
    "        plt.scatter([0, 1], [intercept, coefficient + intercept])\n",
    "    plt.legend()\n",
    "    plt.xlabel('Coefficient')\n",
    "    plt.ylabel('Intercept')\n",
    "    plt.title('Best Fit Line')\n",
    "    plt.tight_layout()"
   ]
  },
  {
   "cell_type": "markdown",
   "metadata": {},
   "source": [
    "## Mixture"
   ]
  },
  {
   "cell_type": "code",
   "execution_count": null,
   "metadata": {},
   "outputs": [],
   "source": [
    "def initailize_mixture(mixture_image_path: str) -> Mixture:   \n",
    "    if not mixture_image_path:\n",
    "        raise ValueError(\"No mixture path found.\")\n",
    "    mixture_image = io.read_image(mixture_image_path)\n",
    "    mixture = Mixture(name = mixture_image_path.split('\\\\')[-1], image = mixture_image)\n",
    "    return mixture\n",
    "\n",
    "def show_mixture_general_images(mixture: Mixture):\n",
    "    plt.figure(figsize=(8, 5))\n",
    "    plt.subplot(1, 2, 1), plt.imshow(mixture.original_image), plt.title('Original Image')\n",
    "    plt.subplot(1, 2, 2), plt.imshow(mixture.line_detected_image), plt.title('Line Detection Image')\n",
    "    plt.tight_layout()\n",
    "    \n",
    "def show_mixture_color_data(mixture: Mixture, color: str):\n",
    "    channel_map = {\n",
    "        'red': mixture.red_channel_mixture,\n",
    "        'green': mixture.green_channel_mixture,\n",
    "        'blue': mixture.blue_channel_mixture\n",
    "    }\n",
    "    mixture_single_color = channel_map[color]\n",
    "    plt.figure(figsize=(15, 5))\n",
    "    plt.subplot(1, 3, 1), plt.imshow(mixture_single_color.channel_image, cmap='gray'), plt.title(f'{color[0].upper() + color[1:]} Channel Image')\n",
    "    plt.subplot(1, 3, 2), plt.imshow(mixture_single_color.segmented_image, cmap='gray'), plt.title(f'{color[0].upper() + color[1:]} Segmented Image')\n",
    "    plt.subplot(1, 3, 3), plt.imshow(mixture_single_color.get_image_with_centroids(), cmap='gray'), plt.title(f'{color[0].upper() + color[1:]}\\nSegmented Image with Centroid')\n",
    "    plt.tight_layout()"
   ]
  },
  {
   "cell_type": "markdown",
   "metadata": {},
   "source": [
    "# 📍 Main"
   ]
  },
  {
   "cell_type": "code",
   "execution_count": null,
   "metadata": {},
   "outputs": [],
   "source": [
    "SUBSTANCE_NAME = 'LPY'  # [5CY / LPY / NGG]"
   ]
  },
  {
   "cell_type": "markdown",
   "metadata": {},
   "source": [
    "## 1. Initialize Ingredient and Mixture"
   ]
  },
  {
   "cell_type": "code",
   "execution_count": null,
   "metadata": {},
   "outputs": [],
   "source": [
    "ingredient_image_paths = io.load_image_path(input_type=\"ingredients\", substance_name=SUBSTANCE_NAME)\n",
    "ingredient = initialize_ingredient(ingredient_image_paths[-1])\n",
    "\n",
    "mixture_image_paths = io.load_image_path(input_type=\"mixtures\")\n",
    "mixture = initailize_mixture(mixture_image_paths[-1])"
   ]
  },
  {
   "cell_type": "markdown",
   "metadata": {},
   "source": [
    "## 2. (Optional) Show objects data"
   ]
  },
  {
   "cell_type": "markdown",
   "metadata": {},
   "source": [
    "### 2.1 Ingredient data"
   ]
  },
  {
   "cell_type": "markdown",
   "metadata": {},
   "source": [
    "#### 2.1.0 General"
   ]
  },
  {
   "cell_type": "code",
   "execution_count": null,
   "metadata": {},
   "outputs": [],
   "source": [
    "show_ingredient_general_images(ingredient)"
   ]
  },
  {
   "cell_type": "markdown",
   "metadata": {},
   "source": [
    "#### 2.1.R Red"
   ]
  },
  {
   "cell_type": "code",
   "execution_count": null,
   "metadata": {},
   "outputs": [],
   "source": [
    "show_ingredient_channel_images(ingredient=ingredient, color='red')\n",
    "show_ingredient_vertical_lane_images(ingredient=ingredient, color='red')\n",
    "show_ingredient_horizontal_lane_images(ingredient=ingredient, color='red')"
   ]
  },
  {
   "cell_type": "markdown",
   "metadata": {},
   "source": [
    "#### 2.1.G Green"
   ]
  },
  {
   "cell_type": "code",
   "execution_count": null,
   "metadata": {},
   "outputs": [],
   "source": [
    "show_ingredient_channel_images(ingredient=ingredient, color='green')\n",
    "show_ingredient_vertical_lane_images(ingredient=ingredient, color='green')\n",
    "show_ingredient_horizontal_lane_images(ingredient=ingredient, color='green')"
   ]
  },
  {
   "cell_type": "markdown",
   "metadata": {},
   "source": [
    "#### 2.1.B Blue"
   ]
  },
  {
   "cell_type": "code",
   "execution_count": null,
   "metadata": {},
   "outputs": [],
   "source": [
    "show_ingredient_channel_images(ingredient=ingredient, color='blue')\n",
    "show_ingredient_vertical_lane_images(ingredient=ingredient, color='blue')\n",
    "show_ingredient_horizontal_lane_images(ingredient=ingredient, color='blue')"
   ]
  },
  {
   "cell_type": "markdown",
   "metadata": {},
   "source": [
    "### 2.2 Mixture data"
   ]
  },
  {
   "cell_type": "markdown",
   "metadata": {},
   "source": [
    "#### 2.2.0 General"
   ]
  },
  {
   "cell_type": "code",
   "execution_count": null,
   "metadata": {},
   "outputs": [],
   "source": [
    "show_mixture_general_images(mixture)"
   ]
  },
  {
   "cell_type": "markdown",
   "metadata": {},
   "source": [
    "#### 2.2.R Red"
   ]
  },
  {
   "cell_type": "code",
   "execution_count": null,
   "metadata": {},
   "outputs": [],
   "source": [
    "show_mixture_color_data(mixture=mixture, color='red')"
   ]
  },
  {
   "cell_type": "markdown",
   "metadata": {},
   "source": [
    "#### 2.2.G Green"
   ]
  },
  {
   "cell_type": "code",
   "execution_count": null,
   "metadata": {},
   "outputs": [],
   "source": [
    "show_mixture_color_data(mixture=mixture, color='green')"
   ]
  },
  {
   "cell_type": "markdown",
   "metadata": {},
   "source": [
    "#### 2.2.B Blue"
   ]
  },
  {
   "cell_type": "code",
   "execution_count": null,
   "metadata": {},
   "outputs": [],
   "source": [
    "show_mixture_color_data(mixture=mixture, color='blue')"
   ]
  },
  {
   "cell_type": "markdown",
   "metadata": {},
   "source": [
    "## 3. Initialize TLC Analyzer"
   ]
  },
  {
   "cell_type": "code",
   "execution_count": null,
   "metadata": {},
   "outputs": [],
   "source": [
    "tlc_analyzer = TLCAnalyzer(ingredient, mixture)"
   ]
  }
 ],
 "metadata": {
  "kernelspec": {
   "display_name": "tlcEnv",
   "language": "python",
   "name": "python3"
  },
  "language_info": {
   "codemirror_mode": {
    "name": "ipython",
    "version": 3
   },
   "file_extension": ".py",
   "mimetype": "text/x-python",
   "name": "python",
   "nbconvert_exporter": "python",
   "pygments_lexer": "ipython3",
   "version": "3.12.4"
  }
 },
 "nbformat": 4,
 "nbformat_minor": 2
}
